{
 "cells": [
  {
   "cell_type": "markdown",
   "id": "38bf3ae8",
   "metadata": {},
   "source": [
    "# Visual prompting component implementation"
   ]
  }
 ],
 "metadata": {
  "language_info": {
   "name": "python"
  }
 },
 "nbformat": 4,
 "nbformat_minor": 5
}
