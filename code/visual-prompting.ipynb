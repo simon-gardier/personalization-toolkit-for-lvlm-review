{
  "cells": [
    {
      "cell_type": "markdown",
      "id": "38bf3ae8",
      "metadata": {
        "id": "38bf3ae8"
      },
      "source": [
        "# Visual prompting component implementation"
      ]
    },
    {
      "cell_type": "code",
      "source": [
        "!pip install ultralytics"
      ],
      "metadata": {
        "id": "lTNPtKCEFAib"
      },
      "id": "lTNPtKCEFAib",
      "execution_count": null,
      "outputs": []
    },
    {
      "cell_type": "code",
      "execution_count": null,
      "id": "0ab22e0d",
      "metadata": {
        "id": "0ab22e0d"
      },
      "outputs": [],
      "source": [
        "import torch\n",
        "import numpy as np\n",
        "from ultralytics import YOLO\n",
        "from PIL import Image, ImageDraw, ImageFont\n",
        "import matplotlib.pyplot as plt\n",
        "from transformers import AutoProcessor, LlavaForConditionalGeneration\n",
        "import re\n",
        "import textwrap"
      ]
    },
    {
      "cell_type": "code",
      "source": [
        "print(f\"GPU available: {torch.cuda.is_available()}, Device: {torch.cuda.get_device_properties(torch.cuda.current_device()).name}\")\n",
        "device = torch.cuda.current_device()\n",
        "print(device)"
      ],
      "metadata": {
        "id": "XGrIA1NlAjAp"
      },
      "id": "XGrIA1NlAjAp",
      "execution_count": null,
      "outputs": []
    },
    {
      "cell_type": "markdown",
      "source": [
        "# Object box"
      ],
      "metadata": {
        "id": "A-EXLz-i9D2U"
      },
      "id": "A-EXLz-i9D2U"
    },
    {
      "cell_type": "code",
      "source": [
        "image = Image.open(\"./images/blueberry.png\")\n",
        "plt.imshow(image)\n",
        "plt.show()"
      ],
      "metadata": {
        "id": "1EjygUHUA6Aw"
      },
      "id": "1EjygUHUA6Aw",
      "execution_count": null,
      "outputs": []
    },
    {
      "cell_type": "code",
      "source": [
        "yolo = YOLO(\"yolo11n.pt\")\n",
        "results = yolo.predict(image)[0]\n",
        "cat_cls = 15\n",
        "object_boxes = [box for box in results.boxes if int(box.cls) == cat_cls]\n",
        "object_box = object_boxes[0].xyxy[0].cpu().numpy().astype(int)\n",
        "\n",
        "bounding_box_color = \"blue\"\n",
        "object_name = \"Blueberry\"\n",
        "object_type = \"Cat\"\n",
        "\n",
        "image_with_rectangle = image.copy()\n",
        "draw = ImageDraw.Draw(image_with_rectangle)\n",
        "draw.rectangle(object_box.tolist(), outline=bounding_box_color, width=6)\n",
        "\n",
        "plt.imshow(image_with_rectangle)\n",
        "plt.show()"
      ],
      "metadata": {
        "id": "4JdKNZ9R3F5Q"
      },
      "id": "4JdKNZ9R3F5Q",
      "execution_count": null,
      "outputs": []
    },
    {
      "cell_type": "markdown",
      "source": [
        "# Load LLaVA"
      ],
      "metadata": {
        "id": "nFdsSRoaBfQD"
      },
      "id": "nFdsSRoaBfQD"
    },
    {
      "cell_type": "code",
      "source": [
        "model_id = \"llava-hf/llava-1.5-13b-hf\"\n",
        "model = LlavaForConditionalGeneration.from_pretrained(\n",
        "    model_id,\n",
        "    torch_dtype=torch.float16,\n",
        "    low_cpu_mem_usage=True,\n",
        ").to(device)\n",
        "\n",
        "processor = AutoProcessor.from_pretrained(model_id)"
      ],
      "metadata": {
        "id": "Y_wxBgxmBeiH"
      },
      "id": "Y_wxBgxmBeiH",
      "execution_count": null,
      "outputs": []
    },
    {
      "cell_type": "markdown",
      "source": [
        "# Visual Prompt"
      ],
      "metadata": {
        "id": "6ogGv4McDGWN"
      },
      "id": "6ogGv4McDGWN"
    },
    {
      "cell_type": "markdown",
      "source": [
        "## Simple cat example"
      ],
      "metadata": {
        "id": "oqbzacRWWiLP"
      },
      "id": "oqbzacRWWiLP"
    },
    {
      "cell_type": "code",
      "source": [
        "task = f\"describe what {object_name} is doing?\"\n",
        "context = f\"{object_name} is young and playful cat.\"\n",
        "max_tokens = 300\n",
        "prompt_template = f\"In this image, the entity enclosed in a {bounding_box_color} box is called {object_name}. \\\n",
        "Without mentioning the bounding box and its color, {task}.\"\n",
        "if len(context) > 0:\n",
        "  prompt_template += f\"[Optional] Give more details using the information from: {context}.\""
      ],
      "metadata": {
        "id": "yfC-tw0wr29v"
      },
      "id": "yfC-tw0wr29v",
      "execution_count": null,
      "outputs": []
    },
    {
      "cell_type": "markdown",
      "source": [
        "### Without Bounding Box"
      ],
      "metadata": {
        "id": "eb4K5V6cJKCg"
      },
      "id": "eb4K5V6cJKCg"
    },
    {
      "cell_type": "code",
      "source": [
        "conversation = [\n",
        "    {\n",
        "\n",
        "        \"role\": \"user\",\n",
        "        \"content\": [\n",
        "            {\"type\": \"text\", \"text\": task},\n",
        "            {\"type\": \"image\"},\n",
        "        ],\n",
        "    },\n",
        "]\n",
        "prompt = processor.apply_chat_template(conversation, add_generation_prompt=True)\n",
        "inputs = processor(images=image, text=prompt, return_tensors='pt').to(0, torch.float16)\n",
        "output = model.generate(**inputs, max_new_tokens=200, temperature=0.9, do_sample=True)\n",
        "\n",
        "plt.imshow(image)\n",
        "llava_res = processor.decode(output[0], skip_special_tokens=True)\n",
        "match = re.search(r\"ASSISTANT:\\s*(.*)\", llava_res, re.DOTALL)\n",
        "print(match.group(1).strip() if match else llava_res)"
      ],
      "metadata": {
        "id": "4B1ff4yCNllx"
      },
      "id": "4B1ff4yCNllx",
      "execution_count": null,
      "outputs": []
    },
    {
      "cell_type": "markdown",
      "source": [
        "### With Bouding Box"
      ],
      "metadata": {
        "id": "lKZi3nkDDVdR"
      },
      "id": "lKZi3nkDDVdR"
    },
    {
      "cell_type": "code",
      "source": [
        "conversation = [\n",
        "    {\n",
        "        \"role\": \"user\",\n",
        "        \"content\": [\n",
        "            {\"type\": \"text\", \"text\": prompt_template},\n",
        "            {\"type\": \"image\"},\n",
        "        ],\n",
        "    },\n",
        "]\n",
        "\n",
        "prompt = processor.apply_chat_template(conversation, add_generation_prompt=True)\n",
        "inputs = processor(images=image_with_rectangle, text=prompt, return_tensors='pt').to(0, torch.float16)\n",
        "output = model.generate(**inputs, max_new_tokens=200, temperature=0.9, do_sample=True)\n",
        "\n",
        "plt.imshow(image_with_rectangle)\n",
        "llava_res = processor.decode(output[0], skip_special_tokens=True)\n",
        "match = re.search(r\"ASSISTANT:\\s*(.*)\", llava_res, re.DOTALL)\n",
        "print(match.group(1).strip() if match else llava_res)"
      ],
      "metadata": {
        "id": "6-ufRW9EDVvQ"
      },
      "id": "6-ufRW9EDVvQ",
      "execution_count": null,
      "outputs": []
    },
    {
      "cell_type": "markdown",
      "source": [
        "## Group of people"
      ],
      "metadata": {
        "id": "q_jOxTQ9Wqjf"
      },
      "id": "q_jOxTQ9Wqjf"
    },
    {
      "cell_type": "code",
      "source": [
        "image = Image.open(\"./images/friends.jpeg\")\n",
        "results = yolo.predict(image)[0]\n",
        "\n",
        "person_cls = 0\n",
        "bounding_box_color = \"blue\"\n",
        "\n",
        "font = ImageFont.truetype(\"Humor-Sans.ttf\", size=100)\n",
        "image_ref = image.copy()\n",
        "draw = ImageDraw.Draw(image_ref)\n",
        "person_boxes = [box for box in results.boxes if int(box.cls) == person_cls]\n",
        "for i in range(len(person_boxes)):\n",
        "    bb = person_boxes[i].xyxy[0].cpu().numpy().astype(int)\n",
        "    draw.rectangle([(bb[0], bb[1]), (bb[2], bb[3])], outline=bounding_box_color, width=6)\n",
        "    draw.text((bb[0], bb[1] - 10), f\"ID {i}\", fill=\"red\", font=font)\n",
        "\n",
        "plt.imshow(image_ref)\n",
        "plt.show()"
      ],
      "metadata": {
        "id": "RtFmIwmkW30q"
      },
      "id": "RtFmIwmkW30q",
      "execution_count": null,
      "outputs": []
    },
    {
      "cell_type": "code",
      "source": [
        "bounding_box_colors = [\"blue\", \"red\", \"green\"]\n",
        "names               = [\"Tom\", \"Julia\", \"Jonh\"]\n",
        "persons_id          = [5, 0, 2]\n",
        "\n",
        "image_with_rectangle = image.copy()\n",
        "draw = ImageDraw.Draw(image_with_rectangle)\n",
        "for i, id in enumerate(persons_id):\n",
        "  person_box = person_boxes[id].xyxy[0].cpu().numpy().astype(int)\n",
        "  draw.rectangle(person_box.tolist(), outline=bounding_box_colors[i], width=6)\n",
        "\n",
        "plt.imshow(image_with_rectangle)\n",
        "plt.show()"
      ],
      "metadata": {
        "id": "euXpqQwKazzY"
      },
      "id": "euXpqQwKazzY",
      "execution_count": null,
      "outputs": []
    },
    {
      "cell_type": "markdown",
      "source": [
        "### Prompt template"
      ],
      "metadata": {
        "id": "vtVYnpZcrCR0"
      },
      "id": "vtVYnpZcrCR0"
    },
    {
      "cell_type": "code",
      "source": [
        "task = f\"describe what {', '.join(names)} are doing?\"\n",
        "context = f\"{', '.join(names)} are friends since high school.\"\n",
        "max_tokens = 200\n",
        "prompt_template = f\"In this image, the entities enclosed in {', '.join(bounding_box_colors)} boxes are respectively called {', '.join(names)}. \\\n",
        "Without mentioning the bounding boxes and their color, {task}.\"\n",
        "if len(context) > 0:\n",
        "  prompt_template += f\"[Optional] Give more details using the information from: {context}.\""
      ],
      "metadata": {
        "id": "AFY7Qoz6lSnh"
      },
      "id": "AFY7Qoz6lSnh",
      "execution_count": null,
      "outputs": []
    },
    {
      "cell_type": "code",
      "source": [
        "def prompt_result(question, image, nb_tokens=300, line_break_after=80, temperature=0.9, do_sample=True):\n",
        "  conversation = [\n",
        "      {\n",
        "\n",
        "          \"role\": \"user\",\n",
        "          \"content\": [\n",
        "              {\"type\": \"text\", \"text\": question},\n",
        "              {\"type\": \"image\"},\n",
        "          ],\n",
        "      },\n",
        "  ]\n",
        "\n",
        "  prompt = processor.apply_chat_template(conversation, add_generation_prompt=True)\n",
        "  inputs = processor(images=image, text=prompt, return_tensors='pt').to(0, torch.float16)\n",
        "  output = model.generate(**inputs, max_new_tokens=nb_tokens, temperature=temperature, do_sample=do_sample)\n",
        "\n",
        "  llava_res = processor.decode(output[0], skip_special_tokens=True)\n",
        "  match = re.search(r\"ASSISTANT:\\s*(.*)\", llava_res)\n",
        "  cleaned_text = match.group(1).strip()\n",
        "  return textwrap.fill(cleaned_text, width=line_break_after)\n"
      ],
      "metadata": {
        "id": "XCcFneXZpLVU"
      },
      "id": "XCcFneXZpLVU",
      "execution_count": null,
      "outputs": []
    },
    {
      "cell_type": "markdown",
      "source": [
        "### Without Bouding Box"
      ],
      "metadata": {
        "id": "bH1QhBZeclX-"
      },
      "id": "bH1QhBZeclX-"
    },
    {
      "cell_type": "code",
      "source": [
        "plt.imshow(image)\n",
        "print(prompt_result(task, image))"
      ],
      "metadata": {
        "id": "gma-xiCZcjFY"
      },
      "id": "gma-xiCZcjFY",
      "execution_count": null,
      "outputs": []
    },
    {
      "cell_type": "markdown",
      "source": [
        "### With bounding box"
      ],
      "metadata": {
        "id": "QnvDEZyFcp2C"
      },
      "id": "QnvDEZyFcp2C"
    },
    {
      "cell_type": "code",
      "source": [
        "plt.imshow(image_with_rectangle)\n",
        "print(prompt_result(prompt_template, image_with_rectangle))"
      ],
      "metadata": {
        "id": "insgLhbxcvEy"
      },
      "id": "insgLhbxcvEy",
      "execution_count": null,
      "outputs": []
    }
  ],
  "metadata": {
    "kernelspec": {
      "display_name": "Python 3",
      "name": "python3"
    },
    "language_info": {
      "codemirror_mode": {
        "name": "ipython",
        "version": 3
      },
      "file_extension": ".py",
      "mimetype": "text/x-python",
      "name": "python",
      "nbconvert_exporter": "python",
      "pygments_lexer": "ipython3",
      "version": "3.11.13"
    },
    "colab": {
      "provenance": [],
      "toc_visible": true,
      "gpuType": "A100"
    },
    "accelerator": "GPU"
  },
  "nbformat": 4,
  "nbformat_minor": 5
}